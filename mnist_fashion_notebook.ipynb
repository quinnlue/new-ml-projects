{
 "cells": [
  {
   "cell_type": "markdown",
   "metadata": {},
   "source": [
    "Importing Dependencies\n",
    "- Pytorch: The neural network framework that will be used today\n",
    "- MatPlotLib: Used to graph a few examples\n"
   ]
  },
  {
   "cell_type": "code",
   "execution_count": 2,
   "metadata": {},
   "outputs": [],
   "source": [
    "import torch\n",
    "import torch.nn as nn\n",
    "from torch.utils.data import DataLoader\n",
    "import torch.nn.functional as F\n",
    "from torchvision.transforms import ToTensor\n",
    "from torchvision import datasets\n",
    "from torch.optim import Adam\n",
    "import matplotlib.pyplot as plt\n",
    "import torchvision.transforms.functional as TF"
   ]
  },
  {
   "cell_type": "markdown",
   "metadata": {},
   "source": [
    "Load datasets from torchvision "
   ]
  },
  {
   "cell_type": "code",
   "execution_count": 3,
   "metadata": {},
   "outputs": [
    {
     "data": {
      "text/plain": [
       "torchvision.datasets.mnist.FashionMNIST"
      ]
     },
     "execution_count": 3,
     "metadata": {},
     "output_type": "execute_result"
    }
   ],
   "source": [
    "train_data = datasets.FashionMNIST(\n",
    "    root=\"data\",\n",
    "    train=True,\n",
    "    download=True,\n",
    "    transform=ToTensor())\n",
    "\n",
    "test_data = datasets.FashionMNIST(\n",
    "    root='data',\n",
    "    train=False,\n",
    "    download=True,\n",
    "    transform=ToTensor())\n",
    "type(train_data)"
   ]
  },
  {
   "cell_type": "markdown",
   "metadata": {},
   "source": [
    "Visualizing the Dataset:"
   ]
  },
  {
   "cell_type": "code",
   "execution_count": 4,
   "metadata": {},
   "outputs": [
    {
     "name": "stdout",
     "output_type": "stream",
     "text": [
      "There are 60000 training examples and 10000 test examples.\n"
     ]
    },
    {
     "data": {
      "image/png": "[encoded data removed]",
      "text/plain": [
       "<Figure size 640x480 with 9 Axes>"
      ]
     },
     "metadata": {},
     "output_type": "display_data"
    }
   ],
   "source": [
    "print(f'There are {len(train_data)} training examples and {len(test_data)} test examples.')\n",
    "# create a dictionary associating the true labels of X from one hot to english\n",
    "label_dict = {0: 'T-shirt/top', 1: 'Trouser', 2: 'Pullover',3:'Dress',4:'Coat',5:'Sandal',6:'Shirt',7:'Sneaker',8:'Bag',9:'Ankle Boot'}\n",
    "\n",
    "# display first 9 examples \n",
    "for i,(image,label) in enumerate(train_data):\n",
    "    if i == 9:\n",
    "        break\n",
    "    else:\n",
    "\n",
    "        image, label = train_data[i]\n",
    "        image = TF.to_pil_image(image)\n",
    "        image = image.convert('L')\n",
    "        plt.subplot(3,3,i+1)\n",
    "        plt.imshow(image, cmap='gray')\n",
    "        plt.axis('off')\n",
    "        plt.text(0.5, -0.15, label_dict[label], fontsize=11, ha='center', transform=plt.gca().transAxes)\n",
    "        \n",
    "plt.show()"
   ]
  },
  {
   "cell_type": "markdown",
   "metadata": {},
   "source": [
    "Convert data into PyTorch DataLoader objects\n",
    "Using mini-batch descent of size 10"
   ]
  },
  {
   "cell_type": "code",
   "execution_count": 5,
   "metadata": {},
   "outputs": [],
   "source": [
    "train_set = DataLoader(train_data, batch_size=10, shuffle=True)\n",
    "test_set = DataLoader(test_data, batch_size=10000, shuffle=False)"
   ]
  },
  {
   "cell_type": "markdown",
   "metadata": {},
   "source": [
    "- Now, configuring the architecture of our neural network.\n",
    "- Use convolutional with kernel size of 3 to act as feature detector\n",
    "- Dropout regularization on the linear layers\n",
    "- Pooling layer to reduce complexity of convolutional layers\n",
    "- Log Softmax for cross entropy loss\n",
    "- Returns output tensor of shape [num_examples x 10] with the greatest value in each row being the predicted label"
   ]
  },
  {
   "cell_type": "code",
   "execution_count": 11,
   "metadata": {},
   "outputs": [],
   "source": [
    "class Net(nn.Module):\n",
    "    def __init__(self) -> None:\n",
    "        super(Net, self).__init__()\n",
    "        self.conv1 = nn.Conv2d(1, 16, 3)\n",
    "\n",
    "        self.conv2 = nn.Conv2d(16, 32, 3)\n",
    "        self.linear_1 = nn.Linear(4608, 64)\n",
    "        self.linear_2 = nn.Linear(64, 10)\n",
    "\n",
    "        \n",
    "        self.dropout1 = nn.Dropout(0.4)\n",
    "        self.dropout2 = nn.Dropout(0.33)\n",
    "\n",
    "    def forward(self, X):\n",
    "        x = self.conv1(X)\n",
    "        x = F.relu(x)\n",
    "\n",
    "        x = self.conv2(x)\n",
    "        x = F.relu(x)\n",
    "\n",
    "        x = F.max_pool2d(x, 2)\n",
    "\n",
    "        x = torch.flatten(x, 1)\n",
    "\n",
    "        x = self.linear_1(x)\n",
    "        x = F.relu(x)\n",
    "        x = self.dropout1(x)\n",
    "\n",
    "        x = self.linear_2(x)\n",
    "        x = F.relu(x)\n",
    "        x = self.dropout2(x)\n",
    "\n",
    "        output = F.log_softmax(x, dim=1)\n",
    "\n",
    "        return output\n"
   ]
  },
  {
   "cell_type": "markdown",
   "metadata": {},
   "source": [
    "Initialize the model\n",
    "Set the loss function -> Cross Entropy Loss for multi-class classification"
   ]
  },
  {
   "cell_type": "code",
   "execution_count": 12,
   "metadata": {},
   "outputs": [],
   "source": [
    "model = Net()\n",
    "loss = nn.CrossEntropyLoss()\n",
    "optimizer = Adam(model.parameters(), lr=0.001)\n",
    "num_epochs = 4\n"
   ]
  },
  {
   "cell_type": "markdown",
   "metadata": {},
   "source": [
    "- Function to test model on the test set\n",
    "- Set model mode to evaluation to remove dropout\n",
    "- Returns cost and true accuracy"
   ]
  },
  {
   "cell_type": "code",
   "execution_count": 13,
   "metadata": {},
   "outputs": [],
   "source": [
    "def test_model(set):\n",
    "    model.eval()\n",
    "    total = 0.0\n",
    "    correct = 0.0\n",
    "    \n",
    "    with torch.no_grad():\n",
    "        for data, target in set:\n",
    "            y_pred = model(data)\n",
    "            _, predicted = torch.max(y_pred, 1)\n",
    "            cost = loss(y_pred , target)\n",
    "            total += target.size(0)\n",
    "            correct += (predicted ==target).sum().item()\n",
    "\n",
    "    accuracy = round(correct / total * 100, 2)\n",
    "\n",
    "    return cost , accuracy"
   ]
  },
  {
   "cell_type": "markdown",
   "metadata": {},
   "source": [
    "Training for loop:\n",
    " - iterates through epochs\n",
    "    - then iterates through batches\n",
    "    - Runs forward and backward propagation\n",
    "    - Clears gradients stored with the data\n",
    "Prints test cost and accuracy after each epoch\n",
    "Prints training cost and accuracy after each epoch (checking for overfitting)\n"
   ]
  },
  {
   "cell_type": "code",
   "execution_count": 14,
   "metadata": {},
   "outputs": [
    {
     "name": "stdout",
     "output_type": "stream",
     "text": [
      "25% done -- Test Cost: 0.40998 -- Test Accuracy: 88.23% -- Train Accuracy: 87.34%\n",
      "50% done -- Test Cost: 0.37092 -- Test Accuracy: 89.61% -- Train Accuracy: 88.26%\n",
      "75% done -- Test Cost: 0.29072 -- Test Accuracy: 90.64% -- Train Accuracy: 89.11%\n",
      "100% done -- Test Cost: 0.52508 -- Test Accuracy: 91.9% -- Train Accuracy: 90.29%\n"
     ]
    }
   ],
   "source": [
    "\n",
    "for i in range(num_epochs):\n",
    "    model.train()\n",
    "    for batch_idx, (data, target) in enumerate(train_set):\n",
    "\n",
    "        y_pred = model(data)\n",
    "\n",
    "        cost = loss(y_pred , target)\n",
    "\n",
    "        cost.backward()\n",
    "        optimizer.step()\n",
    "        optimizer.zero_grad()\n",
    "\n",
    "\n",
    "    test_cost , accuracy = test_model(train_set)\n",
    "    train_cost , train_accuracy = test_model(test_set)\n",
    "    print(f'{int((i+1)*25)}% done -- Test Cost: {round(float(test_cost),5)} -- Test Accuracy: {accuracy}% -- Train Accuracy: {train_accuracy}%')\n",
    "    \n"
   ]
  },
  {
   "cell_type": "markdown",
   "metadata": {},
   "source": []
  }
 ],
 "metadata": {
  "kernelspec": {
   "display_name": "Python 3",
   "language": "python",
   "name": "python3"
  },
  "language_info": {
   "codemirror_mode": {
    "name": "ipython",
    "version": 3
   },
   "file_extension": ".py",
   "mimetype": "text/x-python",
   "name": "python",
   "nbconvert_exporter": "python",
   "pygments_lexer": "ipython3",
   "version": "3.11.5"
  }
 },
 "nbformat": 4,
 "nbformat_minor": 2
}
